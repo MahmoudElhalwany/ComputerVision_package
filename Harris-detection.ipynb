{
 "cells": [
  {
   "cell_type": "code",
   "execution_count": 582,
   "id": "6b445419",
   "metadata": {},
   "outputs": [],
   "source": [
    "from PIL import Image\n",
    "import numpy as np\n",
    "import cv2\n",
    "from scipy import signal as sig\n",
    "from skimage.io import imread\n",
    "from skimage.color import rgb2gray\n",
    "from scipy import ndimage as ndi\n",
    "from skimage.feature import corner_peaks\n",
    "import matplotlib.pyplot as plt\n",
    "from numpy import unravel_index"
   ]
  },
  {
   "cell_type": "code",
   "execution_count": 917,
   "id": "e016dec0",
   "metadata": {},
   "outputs": [],
   "source": [
    "img = Image.open(\"box.jpg\")"
   ]
  },
  {
   "cell_type": "code",
   "execution_count": 918,
   "id": "0fb0e46a",
   "metadata": {},
   "outputs": [],
   "source": [
    "img = img.convert('RGB')"
   ]
  },
  {
   "cell_type": "code",
   "execution_count": 919,
   "id": "7046c8db",
   "metadata": {},
   "outputs": [],
   "source": [
    "def imgtogray(img):\n",
    "    img = np.array(img).astype('float64')\n",
    "    img[:,:,0] *= 0.299\n",
    "    img[:,:,1] *= 0.587\n",
    "    img[:,:,2] *= 0.114\n",
    "    return np.sum(img,axis=2).astype(\"uint8\")"
   ]
  },
  {
   "cell_type": "code",
   "execution_count": 920,
   "id": "7db98392",
   "metadata": {},
   "outputs": [],
   "source": [
    "img_gray = imgtogray(img)\n",
    "#img_gray = img.convert(\"LA\")"
   ]
  },
  {
   "cell_type": "code",
   "execution_count": 921,
   "id": "6caaae39",
   "metadata": {},
   "outputs": [],
   "source": [
    "# img_blur = cv2.GaussianBlur(img_gray, (3,3), 0)\n",
    "# sobelx = cv2.Sobel(src=img_blur, ddepth=cv2.CV_64F, dx=1, dy=0, ksize=3) # Sobel Edge\n",
    "# sobely = cv2.Sobel(src=img_blur, ddepth=cv2.CV_64F, dx=0, dy=1, ksize=3) # Sobel Edge\n",
    "# sobelxy = cv2.Sobel(src=img_blur, ddepth=cv2.CV_64F, dx=1, dy=1, ksize=3) # Sobel Edge"
   ]
  },
  {
   "cell_type": "code",
   "execution_count": 922,
   "id": "9b78214f",
   "metadata": {},
   "outputs": [],
   "source": [
    "def sobel_edge_detector_cv2(img):\n",
    "    grad_x = cv2.Sobel(img, cv2.CV_64F, 1, 0,ksize=3)\n",
    "    grad_y = cv2.Sobel(img, cv2.CV_64F, 0, 1,ksize=3)\n",
    "    grad = np.sqrt(grad_x**2 + grad_y**2)\n",
    "    grad_norm = (grad * 255 / grad.max()).astype(np.uint8)\n",
    "    return grad_x, grad_y, grad, grad_norm"
   ]
  },
  {
   "cell_type": "code",
   "execution_count": 923,
   "id": "e3e17281",
   "metadata": {},
   "outputs": [],
   "source": [
    "def sobel_edge_detector_scipy(img):\n",
    "    kernel_x = np.array([[-1, 0, 1],[-2, 0, 2],[-1, 0, 1]])\n",
    "    kernel_y = np.array([[1, 2, 1], [0, 0, 0], [-1, -2, -1]])\n",
    "    Ix = sig.convolve2d(img, kernel_x, mode='same')\n",
    "    Ix_norm = (Ix * 255 / Ix.max()).astype(np.uint8)\n",
    "    Iy = sig.convolve2d(img, kernel_y, mode='same')\n",
    "    Iy_norm = (Iy * 255 / Iy.max()).astype(np.uint8)\n",
    "    grad = np.sqrt(Ix**2 + Iy**2)\n",
    "    Ixy_norm = (grad * 255 / grad.max()).astype(np.uint8)\n",
    "    return Ix_norm, Iy_norm, Ixy_norm"
   ]
  },
  {
   "cell_type": "code",
   "execution_count": 924,
   "id": "28ad836e",
   "metadata": {},
   "outputs": [],
   "source": [
    "def gaussian_blur_scipy(img):\n",
    "    kernel = np.array([[1, 2, 1],[2, 4, 2],[1, 2, 1]])\n",
    "    I = sig.convolve2d(img, kernel, mode='same')/16.0\n",
    "    I_norm = (I * 255 / I.max()).astype(np.uint8)\n",
    "    return I, I_norm"
   ]
  },
  {
   "cell_type": "code",
   "execution_count": 925,
   "id": "0a64b6ee",
   "metadata": {},
   "outputs": [],
   "source": [
    "Ix,Iy,Ixy = sobel_edge_detector_scipy(img_gray)\n"
   ]
  },
  {
   "cell_type": "code",
   "execution_count": 926,
   "id": "a0da9ef3",
   "metadata": {},
   "outputs": [
    {
     "data": {
      "image/png": "[encoded data removed]",
      "text/plain": [
       "<PIL.Image.Image image mode=L size=454x353 at 0x1AEE9D15880>"
      ]
     },
     "execution_count": 926,
     "metadata": {},
     "output_type": "execute_result"
    }
   ],
   "source": [
    "Image.fromarray(Ixy)"
   ]
  },
  {
   "cell_type": "code",
   "execution_count": 927,
   "id": "53dbcd84",
   "metadata": {},
   "outputs": [
    {
     "data": {
      "image/png": "[encoded data removed]",
      "text/plain": [
       "<PIL.Image.Image image mode=L size=454x353 at 0x1AEE9D2FCA0>"
      ]
     },
     "execution_count": 927,
     "metadata": {},
     "output_type": "execute_result"
    }
   ],
   "source": [
    "_,_,_,img_dif = sobel_edge_detector_cv2(img_gray)\n",
    "Image.fromarray(img_dif)"
   ]
  },
  {
   "cell_type": "code",
   "execution_count": 928,
   "id": "ab97b241",
   "metadata": {},
   "outputs": [],
   "source": [
    "Ixx = ndi.gaussian_filter(Ix**2, sigma=2)\n",
    "Ixy = ndi.gaussian_filter(Ix*Iy, sigma=2)\n",
    "Iyy = ndi.gaussian_filter(Iy**2, sigma=2)"
   ]
  },
  {
   "cell_type": "code",
   "execution_count": 929,
   "id": "c2d7c370",
   "metadata": {},
   "outputs": [],
   "source": [
    "Ixx,_ = gaussian_blur_scipy(Ix**2)\n",
    "Ixy,_ = gaussian_blur_scipy(Ix*Iy)\n",
    "Iyy,_ = gaussian_blur_scipy(Iy**2)"
   ]
  },
  {
   "cell_type": "code",
   "execution_count": 930,
   "id": "6358a933",
   "metadata": {},
   "outputs": [],
   "source": [
    "detM = Ixx * Iyy - Ixy**2\n",
    "trM = Ixx + Ixy"
   ]
  },
  {
   "cell_type": "code",
   "execution_count": 931,
   "id": "dd36e58a",
   "metadata": {},
   "outputs": [],
   "source": [
    "alpha = 0.04\n",
    "harris_response = detM - alpha * trM**2"
   ]
  },
  {
   "cell_type": "code",
   "execution_count": 932,
   "id": "e4659334",
   "metadata": {},
   "outputs": [
    {
     "data": {
      "text/plain": [
       "18949.813125"
      ]
     },
     "execution_count": 932,
     "metadata": {},
     "output_type": "execute_result"
    }
   ],
   "source": [
    "harris_response.max()"
   ]
  },
  {
   "cell_type": "code",
   "execution_count": 933,
   "id": "b0c7c1d3",
   "metadata": {},
   "outputs": [
    {
     "data": {
      "text/plain": [
       "(353, 454)"
      ]
     },
     "execution_count": 933,
     "metadata": {},
     "output_type": "execute_result"
    }
   ],
   "source": [
    "harris_response.shape"
   ]
  },
  {
   "cell_type": "code",
   "execution_count": 934,
   "id": "d2b93142",
   "metadata": {},
   "outputs": [
    {
     "data": {
      "text/plain": [
       "(454, 353)"
      ]
     },
     "execution_count": 934,
     "metadata": {},
     "output_type": "execute_result"
    }
   ],
   "source": [
    "img.size"
   ]
  },
  {
   "cell_type": "code",
   "execution_count": 935,
   "id": "8aaf0534",
   "metadata": {},
   "outputs": [],
   "source": [
    "# height = img_gray.shape[1]\n",
    "# width = img_gray.shape[0]\n",
    "# offset = 3"
   ]
  },
  {
   "cell_type": "code",
   "execution_count": 936,
   "id": "4c50acad",
   "metadata": {},
   "outputs": [],
   "source": [
    "# for y in range(offset, height-offset):\n",
    "#     for x in range(offset, width-offset):\n",
    "#         Sxx = np.sum(Ixx[y-offset:y+1+offset, x-offset:x+1+offset])\n",
    "#         Syy = np.sum(Iyy[y-offset:y+1+offset, x-offset:x+1+offset])\n",
    "#         Sxy = np.sum(Ixy[y-offset:y+1+offset, x-offset:x+1+offset])\n",
    "#         det = (Sxx * Syy) - (Sxy**2)\n",
    "#         trace = Sxx + Syy\n",
    "#         r = det - alpha*(trace**2)\n",
    "        "
   ]
  },
  {
   "cell_type": "code",
   "execution_count": 937,
   "id": "12388691",
   "metadata": {},
   "outputs": [],
   "source": [
    "img_copy_for_corners = np.copy(img)\n",
    "img_copy_for_edges = np.copy(img)"
   ]
  },
  {
   "cell_type": "code",
   "execution_count": null,
   "id": "376cf651",
   "metadata": {},
   "outputs": [],
   "source": []
  },
  {
   "cell_type": "code",
   "execution_count": 938,
   "id": "80551a45",
   "metadata": {},
   "outputs": [],
   "source": [
    "for rowindex, response in enumerate(harris_response):\n",
    "    for colindex, r in enumerate(response):\n",
    "        if r > 0:\n",
    "            # this is a corner\n",
    "            img_copy_for_corners[rowindex, colindex] = [255,0,0]\n",
    "        elif r < -5:\n",
    "            # this is an edge\n",
    "            img_copy_for_edges[rowindex, colindex] = [255,0,0]"
   ]
  },
  {
   "cell_type": "code",
   "execution_count": 939,
   "id": "5eeaf808",
   "metadata": {},
   "outputs": [
    {
     "data": {
      "image/png": "[encoded data removed]",
      "text/plain": [
       "<PIL.Image.Image image mode=RGB size=454x353 at 0x1AEE9D1AA90>"
      ]
     },
     "execution_count": 939,
     "metadata": {},
     "output_type": "execute_result"
    }
   ],
   "source": [
    "Image.fromarray(img_copy_for_corners)"
   ]
  },
  {
   "cell_type": "code",
   "execution_count": 940,
   "id": "b4f47552",
   "metadata": {},
   "outputs": [
    {
     "data": {
      "text/plain": [
       "(array([0], dtype=int64), array([62], dtype=int64))"
      ]
     },
     "execution_count": 940,
     "metadata": {},
     "output_type": "execute_result"
    }
   ],
   "source": [
    "np.where(harris_response ==1002.268125)"
   ]
  },
  {
   "cell_type": "code",
   "execution_count": 941,
   "id": "7485d6c0",
   "metadata": {},
   "outputs": [
    {
     "data": {
      "text/plain": [
       "1002.268125"
      ]
     },
     "execution_count": 941,
     "metadata": {},
     "output_type": "execute_result"
    }
   ],
   "source": [
    "harris_response[0,62]"
   ]
  },
  {
   "cell_type": "code",
   "execution_count": 942,
   "id": "56883876",
   "metadata": {},
   "outputs": [],
   "source": [
    "# harris_response[harris_response>1] = 255\n",
    "# harris_response[harris_response<=1] = 0"
   ]
  },
  {
   "cell_type": "code",
   "execution_count": 943,
   "id": "394f5038",
   "metadata": {},
   "outputs": [
    {
     "data": {
      "text/plain": [
       "array([[-1.24402500e+02, -2.60420313e+01,  0.00000000e+00],\n",
       "       [-2.68475000e+01, -5.42281250e+00,  0.00000000e+00],\n",
       "       [-1.00000000e-02, -2.50000000e-03,  0.00000000e+00]])"
      ]
     },
     "execution_count": 943,
     "metadata": {},
     "output_type": "execute_result"
    }
   ],
   "source": [
    "harris_response[0:3,0:3]"
   ]
  },
  {
   "cell_type": "code",
   "execution_count": 944,
   "id": "56919f86",
   "metadata": {},
   "outputs": [
    {
     "data": {
      "text/plain": [
       "0.0"
      ]
     },
     "execution_count": 944,
     "metadata": {},
     "output_type": "execute_result"
    }
   ],
   "source": [
    "harris_response[0:3,0:3].max()"
   ]
  },
  {
   "cell_type": "code",
   "execution_count": 945,
   "id": "de16fa02",
   "metadata": {},
   "outputs": [],
   "source": [
    "img_copy_for_corners = np.copy(img)\n",
    "height = img_copy_for_corners.shape[0]\n",
    "width = img_copy_for_corners.shape[1]\n",
    "offset = 5\n",
    "for x in range(offset, width+1):\n",
    "    for y in range(offset, height+1):\n",
    "        max_ind =  np.where(harris_response[y-offset:y,x-offset:x] == harris_response[y-offset:y,x-offset:x].max())\n",
    "        max_x,max_y = max_ind[0][0], max_ind[1][0]\n",
    "        if(harris_response[y-offset:y,x-offset:x][max_y,max_x]>200):\n",
    "            img_copy_for_corners[y-offset:y,x-offset:x][max_y,max_x] = [255,0,0]\n",
    "            \n",
    "            \n",
    "        else:\n",
    "            harris_for_corners[y-offset:y,x-offset:x] = 255\n",
    "        \n",
    "        "
   ]
  },
  {
   "cell_type": "code",
   "execution_count": 946,
   "id": "c827daa8",
   "metadata": {},
   "outputs": [
    {
     "data": {
      "text/plain": [
       "353"
      ]
     },
     "execution_count": 946,
     "metadata": {},
     "output_type": "execute_result"
    }
   ],
   "source": [
    "height"
   ]
  },
  {
   "cell_type": "code",
   "execution_count": 947,
   "id": "c6cf194d",
   "metadata": {},
   "outputs": [
    {
     "data": {
      "text/plain": [
       "0"
      ]
     },
     "execution_count": 947,
     "metadata": {},
     "output_type": "execute_result"
    }
   ],
   "source": [
    "len(harris_for_corners[harris_for_corners==0])"
   ]
  },
  {
   "cell_type": "code",
   "execution_count": 948,
   "id": "700fd34d",
   "metadata": {},
   "outputs": [
    {
     "data": {
      "image/png": "[encoded data removed]",
      "text/plain": [
       "<PIL.Image.Image image mode=RGB size=454x353 at 0x1AEE56E9670>"
      ]
     },
     "execution_count": 948,
     "metadata": {},
     "output_type": "execute_result"
    }
   ],
   "source": [
    "Image.fromarray(img_copy_for_corners)"
   ]
  },
  {
   "cell_type": "code",
   "execution_count": 871,
   "id": "103418a4",
   "metadata": {},
   "outputs": [],
   "source": [
    "harris_response[harris_response>20]=255\n",
    "harris_response[harris_response<=20]=0"
   ]
  },
  {
   "cell_type": "code",
   "execution_count": 872,
   "id": "7353fc6b",
   "metadata": {},
   "outputs": [
    {
     "ename": "ValueError",
     "evalue": "Could not save to PNG for display",
     "output_type": "error",
     "traceback": [
      "\u001b[1;31m---------------------------------------------------------------------------\u001b[0m",
      "\u001b[1;31mKeyError\u001b[0m                                  Traceback (most recent call last)",
      "\u001b[1;32m~\\anaconda3\\lib\\site-packages\\PIL\\PngImagePlugin.py\u001b[0m in \u001b[0;36m_save\u001b[1;34m(im, fp, filename, chunk, save_all)\u001b[0m\n\u001b[0;32m   1215\u001b[0m     \u001b[1;32mtry\u001b[0m\u001b[1;33m:\u001b[0m\u001b[1;33m\u001b[0m\u001b[1;33m\u001b[0m\u001b[0m\n\u001b[1;32m-> 1216\u001b[1;33m         \u001b[0mrawmode\u001b[0m\u001b[1;33m,\u001b[0m \u001b[0mmode\u001b[0m \u001b[1;33m=\u001b[0m \u001b[0m_OUTMODES\u001b[0m\u001b[1;33m[\u001b[0m\u001b[0mmode\u001b[0m\u001b[1;33m]\u001b[0m\u001b[1;33m\u001b[0m\u001b[1;33m\u001b[0m\u001b[0m\n\u001b[0m\u001b[0;32m   1217\u001b[0m     \u001b[1;32mexcept\u001b[0m \u001b[0mKeyError\u001b[0m \u001b[1;32mas\u001b[0m \u001b[0me\u001b[0m\u001b[1;33m:\u001b[0m\u001b[1;33m\u001b[0m\u001b[1;33m\u001b[0m\u001b[0m\n",
      "\u001b[1;31mKeyError\u001b[0m: 'F'",
      "\nThe above exception was the direct cause of the following exception:\n",
      "\u001b[1;31mOSError\u001b[0m                                   Traceback (most recent call last)",
      "\u001b[1;32m~\\anaconda3\\lib\\site-packages\\PIL\\Image.py\u001b[0m in \u001b[0;36m_repr_png_\u001b[1;34m(self)\u001b[0m\n\u001b[0;32m    673\u001b[0m         \u001b[1;32mtry\u001b[0m\u001b[1;33m:\u001b[0m\u001b[1;33m\u001b[0m\u001b[1;33m\u001b[0m\u001b[0m\n\u001b[1;32m--> 674\u001b[1;33m             \u001b[0mself\u001b[0m\u001b[1;33m.\u001b[0m\u001b[0msave\u001b[0m\u001b[1;33m(\u001b[0m\u001b[0mb\u001b[0m\u001b[1;33m,\u001b[0m \u001b[1;34m\"PNG\"\u001b[0m\u001b[1;33m)\u001b[0m\u001b[1;33m\u001b[0m\u001b[1;33m\u001b[0m\u001b[0m\n\u001b[0m\u001b[0;32m    675\u001b[0m         \u001b[1;32mexcept\u001b[0m \u001b[0mException\u001b[0m \u001b[1;32mas\u001b[0m \u001b[0me\u001b[0m\u001b[1;33m:\u001b[0m\u001b[1;33m\u001b[0m\u001b[1;33m\u001b[0m\u001b[0m\n",
      "\u001b[1;32m~\\anaconda3\\lib\\site-packages\\PIL\\Image.py\u001b[0m in \u001b[0;36msave\u001b[1;34m(self, fp, format, **params)\u001b[0m\n\u001b[0;32m   2171\u001b[0m         \u001b[1;32mtry\u001b[0m\u001b[1;33m:\u001b[0m\u001b[1;33m\u001b[0m\u001b[1;33m\u001b[0m\u001b[0m\n\u001b[1;32m-> 2172\u001b[1;33m             \u001b[0msave_handler\u001b[0m\u001b[1;33m(\u001b[0m\u001b[0mself\u001b[0m\u001b[1;33m,\u001b[0m \u001b[0mfp\u001b[0m\u001b[1;33m,\u001b[0m \u001b[0mfilename\u001b[0m\u001b[1;33m)\u001b[0m\u001b[1;33m\u001b[0m\u001b[1;33m\u001b[0m\u001b[0m\n\u001b[0m\u001b[0;32m   2173\u001b[0m         \u001b[1;32mfinally\u001b[0m\u001b[1;33m:\u001b[0m\u001b[1;33m\u001b[0m\u001b[1;33m\u001b[0m\u001b[0m\n",
      "\u001b[1;32m~\\anaconda3\\lib\\site-packages\\PIL\\PngImagePlugin.py\u001b[0m in \u001b[0;36m_save\u001b[1;34m(im, fp, filename, chunk, save_all)\u001b[0m\n\u001b[0;32m   1217\u001b[0m     \u001b[1;32mexcept\u001b[0m \u001b[0mKeyError\u001b[0m \u001b[1;32mas\u001b[0m \u001b[0me\u001b[0m\u001b[1;33m:\u001b[0m\u001b[1;33m\u001b[0m\u001b[1;33m\u001b[0m\u001b[0m\n\u001b[1;32m-> 1218\u001b[1;33m         \u001b[1;32mraise\u001b[0m \u001b[0mOSError\u001b[0m\u001b[1;33m(\u001b[0m\u001b[1;34mf\"cannot write mode {mode} as PNG\"\u001b[0m\u001b[1;33m)\u001b[0m \u001b[1;32mfrom\u001b[0m \u001b[0me\u001b[0m\u001b[1;33m\u001b[0m\u001b[1;33m\u001b[0m\u001b[0m\n\u001b[0m\u001b[0;32m   1219\u001b[0m \u001b[1;33m\u001b[0m\u001b[0m\n",
      "\u001b[1;31mOSError\u001b[0m: cannot write mode F as PNG",
      "\nThe above exception was the direct cause of the following exception:\n",
      "\u001b[1;31mValueError\u001b[0m                                Traceback (most recent call last)",
      "\u001b[1;32m~\\anaconda3\\lib\\site-packages\\IPython\\core\\formatters.py\u001b[0m in \u001b[0;36m__call__\u001b[1;34m(self, obj)\u001b[0m\n\u001b[0;32m    343\u001b[0m             \u001b[0mmethod\u001b[0m \u001b[1;33m=\u001b[0m \u001b[0mget_real_method\u001b[0m\u001b[1;33m(\u001b[0m\u001b[0mobj\u001b[0m\u001b[1;33m,\u001b[0m \u001b[0mself\u001b[0m\u001b[1;33m.\u001b[0m\u001b[0mprint_method\u001b[0m\u001b[1;33m)\u001b[0m\u001b[1;33m\u001b[0m\u001b[1;33m\u001b[0m\u001b[0m\n\u001b[0;32m    344\u001b[0m             \u001b[1;32mif\u001b[0m \u001b[0mmethod\u001b[0m \u001b[1;32mis\u001b[0m \u001b[1;32mnot\u001b[0m \u001b[1;32mNone\u001b[0m\u001b[1;33m:\u001b[0m\u001b[1;33m\u001b[0m\u001b[1;33m\u001b[0m\u001b[0m\n\u001b[1;32m--> 345\u001b[1;33m                 \u001b[1;32mreturn\u001b[0m \u001b[0mmethod\u001b[0m\u001b[1;33m(\u001b[0m\u001b[1;33m)\u001b[0m\u001b[1;33m\u001b[0m\u001b[1;33m\u001b[0m\u001b[0m\n\u001b[0m\u001b[0;32m    346\u001b[0m             \u001b[1;32mreturn\u001b[0m \u001b[1;32mNone\u001b[0m\u001b[1;33m\u001b[0m\u001b[1;33m\u001b[0m\u001b[0m\n\u001b[0;32m    347\u001b[0m         \u001b[1;32melse\u001b[0m\u001b[1;33m:\u001b[0m\u001b[1;33m\u001b[0m\u001b[1;33m\u001b[0m\u001b[0m\n",
      "\u001b[1;32m~\\anaconda3\\lib\\site-packages\\PIL\\Image.py\u001b[0m in \u001b[0;36m_repr_png_\u001b[1;34m(self)\u001b[0m\n\u001b[0;32m    674\u001b[0m             \u001b[0mself\u001b[0m\u001b[1;33m.\u001b[0m\u001b[0msave\u001b[0m\u001b[1;33m(\u001b[0m\u001b[0mb\u001b[0m\u001b[1;33m,\u001b[0m \u001b[1;34m\"PNG\"\u001b[0m\u001b[1;33m)\u001b[0m\u001b[1;33m\u001b[0m\u001b[1;33m\u001b[0m\u001b[0m\n\u001b[0;32m    675\u001b[0m         \u001b[1;32mexcept\u001b[0m \u001b[0mException\u001b[0m \u001b[1;32mas\u001b[0m \u001b[0me\u001b[0m\u001b[1;33m:\u001b[0m\u001b[1;33m\u001b[0m\u001b[1;33m\u001b[0m\u001b[0m\n\u001b[1;32m--> 676\u001b[1;33m             \u001b[1;32mraise\u001b[0m \u001b[0mValueError\u001b[0m\u001b[1;33m(\u001b[0m\u001b[1;34m\"Could not save to PNG for display\"\u001b[0m\u001b[1;33m)\u001b[0m \u001b[1;32mfrom\u001b[0m \u001b[0me\u001b[0m\u001b[1;33m\u001b[0m\u001b[1;33m\u001b[0m\u001b[0m\n\u001b[0m\u001b[0;32m    677\u001b[0m         \u001b[1;32mreturn\u001b[0m \u001b[0mb\u001b[0m\u001b[1;33m.\u001b[0m\u001b[0mgetvalue\u001b[0m\u001b[1;33m(\u001b[0m\u001b[1;33m)\u001b[0m\u001b[1;33m\u001b[0m\u001b[1;33m\u001b[0m\u001b[0m\n\u001b[0;32m    678\u001b[0m \u001b[1;33m\u001b[0m\u001b[0m\n",
      "\u001b[1;31mValueError\u001b[0m: Could not save to PNG for display"
     ]
    },
    {
     "data": {
      "text/plain": [
       "<PIL.Image.Image image mode=F size=771x495 at 0x1AEDBAACE20>"
      ]
     },
     "execution_count": 872,
     "metadata": {},
     "output_type": "execute_result"
    }
   ],
   "source": [
    "Image.fromarray(harris_response)"
   ]
  },
  {
   "cell_type": "code",
   "execution_count": 332,
   "id": "904d5916",
   "metadata": {},
   "outputs": [],
   "source": [
    "new_p = Image.fromarray(harris_response)\n",
    "if new_p.mode != 'RGB':\n",
    "    new_p = new_p.convert('RGB')"
   ]
  },
  {
   "cell_type": "code",
   "execution_count": 333,
   "id": "90852d8b",
   "metadata": {},
   "outputs": [
    {
     "data": {
      "image/png": "[encoded data removed]",
      "text/plain": [
       "<PIL.Image.Image image mode=RGB size=771x495 at 0x1AEE2D6B070>"
      ]
     },
     "execution_count": 333,
     "metadata": {},
     "output_type": "execute_result"
    }
   ],
   "source": [
    "new_p"
   ]
  },
  {
   "cell_type": "code",
   "execution_count": 200,
   "id": "7dcd5152",
   "metadata": {},
   "outputs": [
    {
     "data": {
      "text/plain": [
       "array([[40.078125  , 15.078125  ,  0.        , ...,  0.        ,\n",
       "         7.078125  ,  8.078125  ],\n",
       "       [15.078125  ,  5.05859375,  0.        , ...,  0.        ,\n",
       "         3.05859375,  7.078125  ],\n",
       "       [ 0.        ,  0.        ,  0.        , ...,  0.        ,\n",
       "         0.        ,  0.        ],\n",
       "       ...,\n",
       "       [ 0.        ,  0.        ,  0.        , ...,  0.        ,\n",
       "         0.        ,  0.        ],\n",
       "       [ 7.078125  ,  3.05859375,  0.        , ...,  0.        ,\n",
       "         5.05859375, 15.078125  ],\n",
       "       [ 8.078125  ,  7.078125  ,  0.        , ...,  0.        ,\n",
       "        15.078125  , 40.078125  ]])"
      ]
     },
     "execution_count": 200,
     "metadata": {},
     "output_type": "execute_result"
    }
   ],
   "source": [
    "detM"
   ]
  },
  {
   "cell_type": "code",
   "execution_count": null,
   "id": "3310c13c",
   "metadata": {},
   "outputs": [],
   "source": []
  }
 ],
 "metadata": {
  "kernelspec": {
   "display_name": "Python 3",
   "language": "python",
   "name": "python3"
  },
  "language_info": {
   "codemirror_mode": {
    "name": "ipython",
    "version": 3
   },
   "file_extension": ".py",
   "mimetype": "text/x-python",
   "name": "python",
   "nbconvert_exporter": "python",
   "pygments_lexer": "ipython3",
   "version": "3.8.8"
  }
 },
 "nbformat": 4,
 "nbformat_minor": 5
}
