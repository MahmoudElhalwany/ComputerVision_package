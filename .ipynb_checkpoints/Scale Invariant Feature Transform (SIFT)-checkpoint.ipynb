{
 "cells": [
  {
   "cell_type": "code",
   "execution_count": 1,
   "id": "27e80a54",
   "metadata": {},
   "outputs": [],
   "source": [
    "from PIL import Image\n",
    "import numpy as np\n",
    "import cv2\n",
    "from scipy import signal as sig\n",
    "from skimage.io import imread\n",
    "from skimage.color import rgb2gray\n",
    "from scipy import ndimage as ndi\n",
    "from skimage.feature import corner_peaks\n",
    "import matplotlib.pyplot as plt\n",
    "from numpy import unravel_index"
   ]
  },
  {
   "cell_type": "code",
   "execution_count": 12,
   "id": "79573cc5",
   "metadata": {},
   "outputs": [],
   "source": [
    "img = Image.open('box.jpg')"
   ]
  },
  {
   "cell_type": "code",
   "execution_count": 17,
   "id": "1b919595",
   "metadata": {},
   "outputs": [
    {
     "name": "stdout",
     "output_type": "stream",
     "text": [
      "(226, 176)\n",
      "(113.0, 88.0)\n"
     ]
    }
   ],
   "source": [
    "size = img.size\n",
    "print(size)\n",
    "ratio = 0.5\n",
    "size = tuple([i*ratio for i in size])\n",
    "print(size)\n",
    "img.thumbnail(size,Image.ANTIALIAS)"
   ]
  },
  {
   "cell_type": "code",
   "execution_count": 25,
   "id": "002cebe2",
   "metadata": {},
   "outputs": [
    {
     "ename": "TypeError",
     "evalue": "'size' is an invalid keyword argument for array()",
     "output_type": "error",
     "traceback": [
      "\u001b[1;31m---------------------------------------------------------------------------\u001b[0m",
      "\u001b[1;31mTypeError\u001b[0m                                 Traceback (most recent call last)",
      "\u001b[1;32m<ipython-input-25-a69f0384c7dd>\u001b[0m in \u001b[0;36m<module>\u001b[1;34m\u001b[0m\n\u001b[1;32m----> 1\u001b[1;33m \u001b[0mimages\u001b[0m \u001b[1;33m=\u001b[0m \u001b[0mnp\u001b[0m\u001b[1;33m.\u001b[0m\u001b[0marray\u001b[0m\u001b[1;33m(\u001b[0m\u001b[0mimg\u001b[0m\u001b[1;33m,\u001b[0m\u001b[0msize\u001b[0m\u001b[1;33m=\u001b[0m\u001b[1;33m(\u001b[0m\u001b[1;36m4\u001b[0m\u001b[1;33m,\u001b[0m\u001b[1;36m4\u001b[0m\u001b[1;33m)\u001b[0m\u001b[1;33m)\u001b[0m\u001b[1;33m\u001b[0m\u001b[1;33m\u001b[0m\u001b[0m\n\u001b[0m",
      "\u001b[1;31mTypeError\u001b[0m: 'size' is an invalid keyword argument for array()"
     ]
    }
   ],
   "source": [
    "images = np.array(img,size=(4,4))"
   ]
  },
  {
   "cell_type": "code",
   "execution_count": 66,
   "id": "bfe2fda8",
   "metadata": {},
   "outputs": [],
   "source": [
    "Images = np.repeat(img,16).reshape(img.size[1],img.size[0],3,4,4)"
   ]
  },
  {
   "cell_type": "code",
   "execution_count": 74,
   "id": "90bf49e7",
   "metadata": {},
   "outputs": [
    {
     "data": {
      "text/plain": [
       "(88, 113, 3)"
      ]
     },
     "execution_count": 74,
     "metadata": {},
     "output_type": "execute_result"
    }
   ],
   "source": [
    "Images[:,:,:,i-1,0].shape"
   ]
  },
  {
   "cell_type": "code",
   "execution_count": 79,
   "id": "5014c574",
   "metadata": {},
   "outputs": [],
   "source": [
    "images = np.zeros((4,4))"
   ]
  },
  {
   "cell_type": "code",
   "execution_count": 87,
   "id": "ba32e024",
   "metadata": {},
   "outputs": [],
   "source": [
    "images = [img]*4"
   ]
  },
  {
   "cell_type": "code",
   "execution_count": null,
   "id": "42a47287",
   "metadata": {},
   "outputs": [],
   "source": []
  },
  {
   "cell_type": "code",
   "execution_count": null,
   "id": "e21277dd",
   "metadata": {},
   "outputs": [],
   "source": []
  },
  {
   "cell_type": "code",
   "execution_count": 86,
   "id": "4ba98370",
   "metadata": {},
   "outputs": [
    {
     "ename": "ValueError",
     "evalue": "setting an array element with a sequence.",
     "output_type": "error",
     "traceback": [
      "\u001b[1;31m---------------------------------------------------------------------------\u001b[0m",
      "\u001b[1;31mTypeError\u001b[0m                                 Traceback (most recent call last)",
      "\u001b[1;31mTypeError\u001b[0m: only size-1 arrays can be converted to Python scalars",
      "\nThe above exception was the direct cause of the following exception:\n",
      "\u001b[1;31mValueError\u001b[0m                                Traceback (most recent call last)",
      "\u001b[1;32m<ipython-input-86-c774a740cb8d>\u001b[0m in \u001b[0;36m<module>\u001b[1;34m\u001b[0m\n\u001b[0;32m      1\u001b[0m \u001b[0mratio\u001b[0m \u001b[1;33m=\u001b[0m \u001b[1;36m0.5\u001b[0m\u001b[1;33m\u001b[0m\u001b[1;33m\u001b[0m\u001b[0m\n\u001b[1;32m----> 2\u001b[1;33m \u001b[0mimages\u001b[0m\u001b[1;33m[\u001b[0m\u001b[1;36m0\u001b[0m\u001b[1;33m,\u001b[0m\u001b[1;36m0\u001b[0m\u001b[1;33m]\u001b[0m \u001b[1;33m=\u001b[0m \u001b[0mnp\u001b[0m\u001b[1;33m.\u001b[0m\u001b[0marray\u001b[0m\u001b[1;33m(\u001b[0m\u001b[0mimg\u001b[0m\u001b[1;33m)\u001b[0m\u001b[1;33m\u001b[0m\u001b[1;33m\u001b[0m\u001b[0m\n\u001b[0m\u001b[0;32m      3\u001b[0m \u001b[1;32mfor\u001b[0m \u001b[0mi\u001b[0m \u001b[1;32min\u001b[0m \u001b[0mrange\u001b[0m\u001b[1;33m(\u001b[0m\u001b[1;36m1\u001b[0m\u001b[1;33m,\u001b[0m\u001b[0mimages\u001b[0m\u001b[1;33m.\u001b[0m\u001b[0mshape\u001b[0m\u001b[1;33m[\u001b[0m\u001b[1;36m0\u001b[0m\u001b[1;33m]\u001b[0m\u001b[1;33m)\u001b[0m\u001b[1;33m:\u001b[0m\u001b[1;33m\u001b[0m\u001b[1;33m\u001b[0m\u001b[0m\n\u001b[0;32m      4\u001b[0m     \u001b[0mcopy\u001b[0m \u001b[1;33m=\u001b[0m \u001b[0mimages\u001b[0m\u001b[1;33m[\u001b[0m\u001b[0mi\u001b[0m\u001b[1;33m-\u001b[0m\u001b[1;36m1\u001b[0m\u001b[1;33m]\u001b[0m\u001b[1;33m.\u001b[0m\u001b[0mcopy\u001b[0m\u001b[1;33m(\u001b[0m\u001b[1;33m)\u001b[0m\u001b[1;33m\u001b[0m\u001b[1;33m\u001b[0m\u001b[0m\n\u001b[0;32m      5\u001b[0m     \u001b[0msize\u001b[0m \u001b[1;33m=\u001b[0m \u001b[0mcopy\u001b[0m\u001b[1;33m.\u001b[0m\u001b[0msize\u001b[0m\u001b[1;33m\u001b[0m\u001b[1;33m\u001b[0m\u001b[0m\n",
      "\u001b[1;31mValueError\u001b[0m: setting an array element with a sequence."
     ]
    }
   ],
   "source": [
    "ratio = 0.5\n",
    "images[0,0] = np.array(img)\n",
    "for i in range(1,images.shape[0]):\n",
    "    copy = images[i-1].copy()\n",
    "    size = copy.size\n",
    "    size = tuple([i*ratio for i in list(size)])\n",
    "    images[i,0] = np.array(copy.thumbnail(size,Image.ANTIALIAS))"
   ]
  },
  {
   "cell_type": "code",
   "execution_count": 82,
   "id": "b83fe9a4",
   "metadata": {},
   "outputs": [
    {
     "data": {
      "text/plain": [
       "array([[nan,  0.,  0.,  0.],\n",
       "       [nan,  0.,  0.,  0.],\n",
       "       [nan,  0.,  0.,  0.],\n",
       "       [nan,  0.,  0.,  0.]])"
      ]
     },
     "execution_count": 82,
     "metadata": {},
     "output_type": "execute_result"
    }
   ],
   "source": [
    "images"
   ]
  },
  {
   "cell_type": "code",
   "execution_count": null,
   "id": "5550c856",
   "metadata": {},
   "outputs": [],
   "source": []
  }
 ],
 "metadata": {
  "kernelspec": {
   "display_name": "Python 3",
   "language": "python",
   "name": "python3"
  },
  "language_info": {
   "codemirror_mode": {
    "name": "ipython",
    "version": 3
   },
   "file_extension": ".py",
   "mimetype": "text/x-python",
   "name": "python",
   "nbconvert_exporter": "python",
   "pygments_lexer": "ipython3",
   "version": "3.8.8"
  }
 },
 "nbformat": 4,
 "nbformat_minor": 5
}
