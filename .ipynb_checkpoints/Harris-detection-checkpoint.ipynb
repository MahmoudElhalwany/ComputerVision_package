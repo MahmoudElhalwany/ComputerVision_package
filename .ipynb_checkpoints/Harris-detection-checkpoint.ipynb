{
 "cells": [
  {
   "cell_type": "code",
   "execution_count": 1027,
   "id": "0da71165",
   "metadata": {},
   "outputs": [],
   "source": [
    "from PIL import Image\n",
    "import numpy as np\n",
    "import cv2\n",
    "from scipy import signal as sig\n",
    "from skimage.io import imread\n",
    "from skimage.color import rgb2gray\n",
    "from scipy import ndimage as ndi\n",
    "from skimage.feature import corner_peaks\n",
    "import matplotlib.pyplot as plt\n",
    "from numpy import unravel_index"
   ]
  },
  {
   "cell_type": "code",
   "execution_count": 1103,
   "id": "d42befd2",
   "metadata": {},
   "outputs": [],
   "source": [
    "''' # \n",
    "    # @desc convert image to gray \n",
    "    # @params np.array img: Image to be converted to gray\n",
    "    # @returns np.array gray image\n",
    "'''\n",
    "def imgtogray(img):\n",
    "    img = np.array(img).astype('float64')\n",
    "    img[:,:,0] *= 0.299\n",
    "    img[:,:,1] *= 0.587\n",
    "    img[:,:,2] *= 0.114\n",
    "    return np.sum(img,axis=2).astype(\"uint8\")"
   ]
  },
  {
   "cell_type": "code",
   "execution_count": 1104,
   "id": "5d0d359c",
   "metadata": {},
   "outputs": [],
   "source": [
    "'''\n",
    "    # @desc apply Sobel-Edge Detector on a given image\n",
    "    # @params np.array img: Image to apply Guassian on it\n",
    "    # @returns np.array Ix_norm: normalized array between (0,255) of edges in x direction of the image\n",
    "    #          np.array Iy_norm: normalized array between (0,255) of edges in y direction of the image\n",
    "    #          np.array Ixy_norm: normalized array between (0,255) of edges in x-y direction of the image\n",
    "'''\n",
    "def sobel_edge_detector_scipy(img):\n",
    "    kernel_x = np.array([[-1, 0, 1],[-2, 0, 2],[-1, 0, 1]])\n",
    "    kernel_y = np.array([[1, 2, 1], [0, 0, 0], [-1, -2, -1]])\n",
    "    Ix = sig.convolve2d(img, kernel_x, mode='same')\n",
    "    Ix_norm = (Ix * 255 / Ix.max()).astype(np.uint8)\n",
    "    Iy = sig.convolve2d(img, kernel_y, mode='same')\n",
    "    Iy_norm = (Iy * 255 / Iy.max()).astype(np.uint8)\n",
    "    grad = np.sqrt(Ix**2 + Iy**2)\n",
    "    Ixy_norm = (grad * 255 / grad.max()).astype(np.uint8)\n",
    "    return Ix_norm, Iy_norm, Ixy_norm"
   ]
  },
  {
   "cell_type": "code",
   "execution_count": 1105,
   "id": "3fba683b",
   "metadata": {},
   "outputs": [],
   "source": [
    "''' # \n",
    "    # @desc apply Gaussian Bluring on a given image\n",
    "    # @params np.array img: Image to apply Guassian on it\n",
    "    # @returns np.array I: np.array of blured image\n",
    "    #          np.array I_norm: normalized array between (0,255) for blured Image \n",
    "'''\n",
    "def gaussian_blur_scipy(img):\n",
    "    kernel = np.array([[1, 2, 1],[2, 4, 2],[1, 2, 1]])\n",
    "    I = sig.convolve2d(img, kernel, mode='same')/16.0\n",
    "    I_norm = (I * 255 / I.max()).astype(np.uint8)\n",
    "    return I, I_norm"
   ]
  },
  {
   "cell_type": "code",
   "execution_count": 1099,
   "id": "9e971703",
   "metadata": {},
   "outputs": [
    {
     "ename": "SyntaxError",
     "evalue": "invalid syntax (<ipython-input-1099-e0a34226d873>, line 1)",
     "output_type": "error",
     "traceback": [
      "\u001b[1;36m  File \u001b[1;32m\"<ipython-input-1099-e0a34226d873>\"\u001b[1;36m, line \u001b[1;32m1\u001b[0m\n\u001b[1;33m    *(*)\u001b[0m\n\u001b[1;37m       ^\u001b[0m\n\u001b[1;31mSyntaxError\u001b[0m\u001b[1;31m:\u001b[0m invalid syntax\n"
     ]
    }
   ],
   "source": [
    "''' # \n",
    "    # @desc apply Harris detrector Algorithm on a given image  \n",
    "    # @params string img_path: the path of the image to apply Harris on it\n",
    "    #        float alpha: the constant multiply with trace matrix between (0.04, 0.06)\n",
    "    #        int threshold: to eliminate edges and flat regions\n",
    "    # @returns image img_for_corners: original image with red points on it for corners\n",
    "    #         np.array harris_for_corners: array for corners locations \n",
    "'''\n",
    "def harris_detection(img_path=\"Test_cow.jpg.png\",alpha=0.04,threshold=200):\n",
    "    img = Image.open(img_path)\n",
    "    img = img.convert('RGB')\n",
    "    img_gray = imgtogray(img)\n",
    "    Ix,Iy,Ixy = sobel_edge_detector_scipy(img_gray)\n",
    "    Ixx,_ = gaussian_blur_scipy(Ix**2)\n",
    "    Ixy,_ = gaussian_blur_scipy(Ix*Iy)\n",
    "    Iyy,_ = gaussian_blur_scipy(Iy**2)\n",
    "    detM = Ixx * Iyy - Ixy**2\n",
    "    trM = Ixx + Ixy\n",
    "    alpha = alpha\n",
    "    harris_response = detM - alpha * trM**2\n",
    "    img_for_corners = np.copy(img)\n",
    "    harris_for_corners = np.zeros(img_for_corners.shape[:2])\n",
    "    height = img_for_corners.shape[0]\n",
    "    width = img_for_corners.shape[1]\n",
    "    offset = 5\n",
    "    for x in range(offset, width+1):\n",
    "        for y in range(offset, height+1):\n",
    "            max_ind =  np.where(harris_response[y-offset:y,x-offset:x] == harris_response[y-offset:y,x-offset:x].max())\n",
    "            max_x,max_y = max_ind[0][0], max_ind[1][0]\n",
    "            if(harris_response[y-offset:y,x-offset:x][max_y,max_x]>threshold):\n",
    "                img_for_corners[y-offset:y,x-offset:x][max_y,max_x] = [255,0,0]\n",
    "                harris_for_corners[y-offset:y,x-offset:x][max_y,max_x] = 255\n",
    "    return img_for_corners, harris_for_corners"
   ]
  },
  {
   "cell_type": "code",
   "execution_count": 1097,
   "id": "56591fe3",
   "metadata": {},
   "outputs": [],
   "source": [
    "i,j =harris_detection('box.jpg')"
   ]
  },
  {
   "cell_type": "code",
   "execution_count": 1098,
   "id": "d2fb27c7",
   "metadata": {},
   "outputs": [
    {
     "data": {
      "image/png": "[encoded data removed]",
      "text/plain": [
       "<Figure size 432x288 with 1 Axes>"
      ]
     },
     "metadata": {
      "needs_background": "light"
     },
     "output_type": "display_data"
    },
    {
     "data": {
      "image/png": "[encoded data removed]",
      "text/plain": [
       "<Figure size 432x288 with 1 Axes>"
      ]
     },
     "metadata": {
      "needs_background": "light"
     },
     "output_type": "display_data"
    }
   ],
   "source": [
    "plt.imshow(j)\n",
    "plt.show()\n",
    "plt.imshow(i)\n",
    "plt.show()"
   ]
  },
  {
   "cell_type": "code",
   "execution_count": null,
   "id": "bffcf3ed",
   "metadata": {},
   "outputs": [],
   "source": []
  }
 ],
 "metadata": {
  "kernelspec": {
   "display_name": "Python 3",
   "language": "python",
   "name": "python3"
  },
  "language_info": {
   "codemirror_mode": {
    "name": "ipython",
    "version": 3
   },
   "file_extension": ".py",
   "mimetype": "text/x-python",
   "name": "python",
   "nbconvert_exporter": "python",
   "pygments_lexer": "ipython3",
   "version": "3.8.8"
  }
 },
 "nbformat": 4,
 "nbformat_minor": 5
}
