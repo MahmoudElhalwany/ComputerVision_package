{
 "cells": [
  {
   "cell_type": "code",
   "execution_count": 1,
   "id": "bda86ed5",
   "metadata": {},
   "outputs": [],
   "source": [
    "from PIL import Image\n",
    "import numpy as np\n",
    "import cv2\n",
    "from scipy import signal as sig\n",
    "from skimage.io import imread\n",
    "from skimage.color import rgb2gray\n",
    "from scipy import ndimage as ndi\n",
    "from skimage.feature import corner_peaks\n",
    "import matplotlib.pyplot as plt\n",
    "from numpy import unravel_index\n",
    "from HarrisDetection import harris_detection"
   ]
  },
  {
   "cell_type": "code",
   "execution_count": 2,
   "id": "fd09c90a",
   "metadata": {},
   "outputs": [],
   "source": [
    "''' # \n",
    "    # @desc apply Gaussian Bluring on a given image\n",
    "    # @params np.array img: Image to apply Guassian on it\n",
    "    # @returns np.array I: np.array of blured image\n",
    "    #          np.array I_norm: normalized array between (0,255) for blured Image \n",
    "'''\n",
    "def gaussian_blur_scipy(img):\n",
    "    kernel = np.array([[1, 2, 1],[2, 4, 2],[1, 2, 1]])\n",
    "    I = sig.convolve2d(img, kernel, mode='same')/16.0\n",
    "    I_norm = (I * 255 / I.max()).astype(np.uint8)\n",
    "    return  I_norm"
   ]
  },
  {
   "cell_type": "code",
   "execution_count": 3,
   "id": "d35adcc5",
   "metadata": {},
   "outputs": [],
   "source": [
    "''' # \n",
    "    # @desc convert image to gray \n",
    "    # @params np.array img: Image to be converted to gray\n",
    "    # @returns np.array gray image\n",
    "'''\n",
    "def imgtogray(img):\n",
    "    img = np.array(img).astype('float64')\n",
    "    img[:,:,0] *= 0.299\n",
    "    img[:,:,1] *= 0.587\n",
    "    img[:,:,2] *= 0.114\n",
    "    return np.sum(img,axis=2).astype(\"uint8\")"
   ]
  },
  {
   "cell_type": "code",
   "execution_count": 4,
   "id": "e77e961b",
   "metadata": {},
   "outputs": [],
   "source": [
    "img = Image.open('Test_cow.jpg.png')"
   ]
  },
  {
   "cell_type": "code",
   "execution_count": 5,
   "id": "58da069c",
   "metadata": {},
   "outputs": [
    {
     "name": "stdout",
     "output_type": "stream",
     "text": [
      "(771, 495)\n",
      "(385.5, 247.5)\n"
     ]
    }
   ],
   "source": [
    "size = img.size\n",
    "print(size)\n",
    "ratio = 0.5\n",
    "size = tuple([i*ratio for i in size])\n",
    "print(size)\n",
    "img.thumbnail(size,Image.ANTIALIAS)"
   ]
  },
  {
   "cell_type": "code",
   "execution_count": 6,
   "id": "ea6da2df",
   "metadata": {},
   "outputs": [
    {
     "ename": "TypeError",
     "evalue": "'size' is an invalid keyword argument for array()",
     "output_type": "error",
     "traceback": [
      "\u001b[1;31m---------------------------------------------------------------------------\u001b[0m",
      "\u001b[1;31mTypeError\u001b[0m                                 Traceback (most recent call last)",
      "\u001b[1;32m<ipython-input-6-a69f0384c7dd>\u001b[0m in \u001b[0;36m<module>\u001b[1;34m\u001b[0m\n\u001b[1;32m----> 1\u001b[1;33m \u001b[0mimages\u001b[0m \u001b[1;33m=\u001b[0m \u001b[0mnp\u001b[0m\u001b[1;33m.\u001b[0m\u001b[0marray\u001b[0m\u001b[1;33m(\u001b[0m\u001b[0mimg\u001b[0m\u001b[1;33m,\u001b[0m\u001b[0msize\u001b[0m\u001b[1;33m=\u001b[0m\u001b[1;33m(\u001b[0m\u001b[1;36m4\u001b[0m\u001b[1;33m,\u001b[0m\u001b[1;36m4\u001b[0m\u001b[1;33m)\u001b[0m\u001b[1;33m)\u001b[0m\u001b[1;33m\u001b[0m\u001b[1;33m\u001b[0m\u001b[0m\n\u001b[0m",
      "\u001b[1;31mTypeError\u001b[0m: 'size' is an invalid keyword argument for array()"
     ]
    }
   ],
   "source": [
    "images = np.array(img,size=(4,4))"
   ]
  },
  {
   "cell_type": "code",
   "execution_count": 7,
   "id": "0260e4c1",
   "metadata": {},
   "outputs": [
    {
     "ename": "ValueError",
     "evalue": "cannot reshape array of size 6086080 into shape (247,385,3,4,4)",
     "output_type": "error",
     "traceback": [
      "\u001b[1;31m---------------------------------------------------------------------------\u001b[0m",
      "\u001b[1;31mValueError\u001b[0m                                Traceback (most recent call last)",
      "\u001b[1;32m<ipython-input-7-d84b8401ec7d>\u001b[0m in \u001b[0;36m<module>\u001b[1;34m\u001b[0m\n\u001b[1;32m----> 1\u001b[1;33m \u001b[0mImages\u001b[0m \u001b[1;33m=\u001b[0m \u001b[0mnp\u001b[0m\u001b[1;33m.\u001b[0m\u001b[0mrepeat\u001b[0m\u001b[1;33m(\u001b[0m\u001b[0mimg\u001b[0m\u001b[1;33m,\u001b[0m\u001b[1;36m16\u001b[0m\u001b[1;33m)\u001b[0m\u001b[1;33m.\u001b[0m\u001b[0mreshape\u001b[0m\u001b[1;33m(\u001b[0m\u001b[0mimg\u001b[0m\u001b[1;33m.\u001b[0m\u001b[0msize\u001b[0m\u001b[1;33m[\u001b[0m\u001b[1;36m1\u001b[0m\u001b[1;33m]\u001b[0m\u001b[1;33m,\u001b[0m\u001b[0mimg\u001b[0m\u001b[1;33m.\u001b[0m\u001b[0msize\u001b[0m\u001b[1;33m[\u001b[0m\u001b[1;36m0\u001b[0m\u001b[1;33m]\u001b[0m\u001b[1;33m,\u001b[0m\u001b[1;36m3\u001b[0m\u001b[1;33m,\u001b[0m\u001b[1;36m4\u001b[0m\u001b[1;33m,\u001b[0m\u001b[1;36m4\u001b[0m\u001b[1;33m)\u001b[0m\u001b[1;33m\u001b[0m\u001b[1;33m\u001b[0m\u001b[0m\n\u001b[0m",
      "\u001b[1;31mValueError\u001b[0m: cannot reshape array of size 6086080 into shape (247,385,3,4,4)"
     ]
    }
   ],
   "source": [
    "Images = np.repeat(img,16).reshape(img.size[1],img.size[0],3,4,4)"
   ]
  },
  {
   "cell_type": "code",
   "execution_count": 8,
   "id": "649042ae",
   "metadata": {},
   "outputs": [
    {
     "ename": "NameError",
     "evalue": "name 'Images' is not defined",
     "output_type": "error",
     "traceback": [
      "\u001b[1;31m---------------------------------------------------------------------------\u001b[0m",
      "\u001b[1;31mNameError\u001b[0m                                 Traceback (most recent call last)",
      "\u001b[1;32m<ipython-input-8-44e1593b96e3>\u001b[0m in \u001b[0;36m<module>\u001b[1;34m\u001b[0m\n\u001b[1;32m----> 1\u001b[1;33m \u001b[0mImages\u001b[0m\u001b[1;33m[\u001b[0m\u001b[1;33m:\u001b[0m\u001b[1;33m,\u001b[0m\u001b[1;33m:\u001b[0m\u001b[1;33m,\u001b[0m\u001b[1;33m:\u001b[0m\u001b[1;33m,\u001b[0m\u001b[0mi\u001b[0m\u001b[1;33m-\u001b[0m\u001b[1;36m1\u001b[0m\u001b[1;33m,\u001b[0m\u001b[1;36m0\u001b[0m\u001b[1;33m]\u001b[0m\u001b[1;33m.\u001b[0m\u001b[0mshape\u001b[0m\u001b[1;33m\u001b[0m\u001b[1;33m\u001b[0m\u001b[0m\n\u001b[0m",
      "\u001b[1;31mNameError\u001b[0m: name 'Images' is not defined"
     ]
    }
   ],
   "source": [
    "Images[:,:,:,i-1,0].shape"
   ]
  },
  {
   "cell_type": "code",
   "execution_count": 9,
   "id": "f724d585",
   "metadata": {},
   "outputs": [],
   "source": [
    "images = [img]*20"
   ]
  },
  {
   "cell_type": "code",
   "execution_count": 10,
   "id": "15767bdb",
   "metadata": {},
   "outputs": [
    {
     "name": "stderr",
     "output_type": "stream",
     "text": [
      "<ipython-input-10-48267c1dc86e>:5: FutureWarning: The input object of type 'Image' is an array-like implementing one of the corresponding protocols (`__array__`, `__array_interface__` or `__array_struct__`); but not a sequence (or 0-D). In the future, this object will be coerced as if it was first converted using `np.array(obj)`. To retain the old behaviour, you have to either modify the type 'Image', or assign to an empty array created with `np.empty(correct_shape, dtype=object)`.\n",
      "  images = np.array(images).reshape(4,5)\n",
      "<ipython-input-10-48267c1dc86e>:5: VisibleDeprecationWarning: Creating an ndarray from ragged nested sequences (which is a list-or-tuple of lists-or-tuples-or ndarrays with different lengths or shapes) is deprecated. If you meant to do this, you must specify 'dtype=object' when creating the ndarray.\n",
      "  images = np.array(images).reshape(4,5)\n"
     ]
    }
   ],
   "source": [
    "img = Image.open('box.jpg')\n",
    "img = img.convert('RGB')\n",
    "img_gray = imgtogray(img)\n",
    "images = [Image.fromarray(img_gray)]*20\n",
    "images = np.array(images).reshape(4,5)"
   ]
  },
  {
   "cell_type": "code",
   "execution_count": 11,
   "id": "2971bd53",
   "metadata": {},
   "outputs": [
    {
     "name": "stdout",
     "output_type": "stream",
     "text": [
      "before (454, 353)\n",
      "after (227, 176)\n",
      "before (227, 176)\n",
      "after (113, 88)\n",
      "before (113, 88)\n",
      "after (56, 44)\n"
     ]
    }
   ],
   "source": [
    "ratio = 0.5\n",
    "for i in range(images.shape[0]):\n",
    "    if i != 0:\n",
    "        size = images[i-1,0].size\n",
    "        print(\"before\",size)\n",
    "        size = tuple([int(j*ratio) for j in size])\n",
    "        print(\"after\",size)\n",
    "        images[i,0] = images[i,0].resize(size)\n",
    "    for j in range(1,images.shape[1]):\n",
    "        images[i,j] = Image.fromarray(gaussian_blur_scipy(np.array(images[i,j-1])))"
   ]
  },
  {
   "cell_type": "code",
   "execution_count": 12,
   "id": "149ea928",
   "metadata": {},
   "outputs": [],
   "source": [
    "DOG = np.empty((4,4),'object')"
   ]
  },
  {
   "cell_type": "code",
   "execution_count": 13,
   "id": "7f7ff62b",
   "metadata": {},
   "outputs": [],
   "source": [
    "for i in range(images.shape[0]):\n",
    "    for j in range(1,images.shape[1]):\n",
    "        DOG[i,j-1] = np.abs(np.array(images[i,j-1]) - np.array(images[i,j]))"
   ]
  },
  {
   "cell_type": "code",
   "execution_count": 14,
   "id": "0dfe58ff",
   "metadata": {},
   "outputs": [],
   "source": [
    "def check_point(image_border, images):\n",
    "    if image_border%2 == 0:\n",
    "        raise \"window must be odd size\"\n",
    "    index = (image_border-1)//2\n",
    "    middle_index = len(images)//2\n",
    "    main_point = images[middle_index][index,index]\n",
    "    global_max = True\n",
    "    global_min = True\n",
    "    for i in range(len(images)):\n",
    "        if images[i].max()> main_point:\n",
    "            global_max = False\n",
    "        if images[i].min() < main_point:\n",
    "            global_min = False\n",
    "        if not(global_max or global_min):\n",
    "            return None \n",
    "    if global_max : return 1\n",
    "    else: return -1\n",
    "    \n",
    "    \n",
    "    "
   ]
  },
  {
   "cell_type": "code",
   "execution_count": 15,
   "id": "9f88b425",
   "metadata": {},
   "outputs": [
    {
     "ename": "NameError",
     "evalue": "name 'octave_index' is not defined",
     "output_type": "error",
     "traceback": [
      "\u001b[1;31m---------------------------------------------------------------------------\u001b[0m",
      "\u001b[1;31mNameError\u001b[0m                                 Traceback (most recent call last)",
      "\u001b[1;32m<ipython-input-15-91135b1eb2b1>\u001b[0m in \u001b[0;36m<module>\u001b[1;34m\u001b[0m\n\u001b[1;32m----> 1\u001b[1;33m \u001b[0mDOG\u001b[0m\u001b[1;33m[\u001b[0m\u001b[0moctave_index\u001b[0m\u001b[1;33m,\u001b[0m\u001b[0mimage_index\u001b[0m\u001b[1;33m-\u001b[0m\u001b[1;36m1\u001b[0m\u001b[1;33m]\u001b[0m\u001b[1;33m[\u001b[0m\u001b[0mx\u001b[0m\u001b[1;33m-\u001b[0m\u001b[0mimage_border\u001b[0m\u001b[1;33m:\u001b[0m\u001b[0mx\u001b[0m\u001b[1;33m,\u001b[0m\u001b[0my\u001b[0m\u001b[1;33m-\u001b[0m\u001b[0mimage_border\u001b[0m\u001b[1;33m,\u001b[0m\u001b[0my\u001b[0m\u001b[1;33m]\u001b[0m\u001b[1;33m\u001b[0m\u001b[1;33m\u001b[0m\u001b[0m\n\u001b[0m",
      "\u001b[1;31mNameError\u001b[0m: name 'octave_index' is not defined"
     ]
    }
   ],
   "source": [
    "DOG[octave_index,image_index-1][x-image_border:x,y-image_border,y]"
   ]
  },
  {
   "cell_type": "code",
   "execution_count": 16,
   "id": "511e406b",
   "metadata": {},
   "outputs": [],
   "source": [
    "#here we should compare 2 succssisve images in the same scale and find maxima \n",
    "key_points = []\n",
    "image_border = 3\n",
    "for octave_index in range(DOG.shape[0]):\n",
    "    for image_index in range(1,DOG[1].shape[0]-1):\n",
    "        x_max, y_max = DOG[octave_index,image_index].shape[:2]\n",
    "        for x in range(image_border,x_max-image_border):\n",
    "            for y in range(image_border,y_max-image_border):\n",
    "                sub_img_prev = DOG[octave_index,image_index-1][x-image_border:x,y-image_border:y]\n",
    "                sub_img_main = DOG[octave_index,image_index][x-image_border:x,y-image_border:y]\n",
    "                sub_img_next = DOG[octave_index,image_index+1][x-image_border:x,y-image_border:y]\n",
    "                ret = check_point(image_border,[sub_img_prev,sub_img_main,sub_img_next])\n",
    "                if ret != None : key_points.append([octave_index,image_index,x,y])\n",
    "\n",
    "                \n",
    "                \n"
   ]
  },
  {
   "cell_type": "code",
   "execution_count": 17,
   "id": "f71a73d5",
   "metadata": {},
   "outputs": [
    {
     "data": {
      "text/plain": [
       "(44, 56)"
      ]
     },
     "execution_count": 17,
     "metadata": {},
     "output_type": "execute_result"
    }
   ],
   "source": [
    "DOG[octave_index,image_index].shape"
   ]
  },
  {
   "cell_type": "code",
   "execution_count": 29,
   "id": "821e1087",
   "metadata": {},
   "outputs": [],
   "source": [
    "high_contrast_key_points = []\n",
    "for i in range(len(key_points)):\n",
    "    octave_ind = key_points[i][0]\n",
    "    image_ind = key_points[i][1]\n",
    "    x = key_points[i][2]\n",
    "    y = key_points[i][3]\n",
    "    if DOG[octave_ind,image_ind][x,y] >(0.3*255):\n",
    "        high_contrast_key_points.append([octave_ind,image_ind,x,y])"
   ]
  },
  {
   "cell_type": "code",
   "execution_count": 38,
   "id": "fac97e98",
   "metadata": {},
   "outputs": [],
   "source": [
    "#step 4 eleminate edges (harris??) and low contrast 0.3[0,1]\n",
    "harris_for_DOG = []\n",
    "for octave_index in range(DOG.shape[0]):\n",
    "    harris_per_octave = []\n",
    "    for image_index in range(1,DOG[1].shape[0]-1):\n",
    "        harris_per_octave.append(harris_detection(DOG[octave_index,image_index]))\n",
    "    harris_for_DOG.append(harris_per_octave)"
   ]
  },
  {
   "cell_type": "code",
   "execution_count": 48,
   "id": "59d5268a",
   "metadata": {},
   "outputs": [
    {
     "data": {
      "text/plain": [
       "2"
      ]
     },
     "execution_count": 48,
     "metadata": {},
     "output_type": "execute_result"
    }
   ],
   "source": [
    "len(harris_for_DOG[0])"
   ]
  },
  {
   "cell_type": "code",
   "execution_count": 53,
   "id": "777b7caa",
   "metadata": {},
   "outputs": [],
   "source": [
    "final_key_points = []\n",
    "for i in range(len(high_contrast_key_points)):\n",
    "    octave_ind = high_contrast_key_points[i][0]\n",
    "    image_ind = high_contrast_key_points[i][1]\n",
    "    x = high_contrast_key_points[i][2]\n",
    "    y = high_contrast_key_points[i][3]\n",
    "    if harris_for_DOG[octave_ind][image_ind-1][x,y] == 255:\n",
    "        final_key_points.append([octave_ind,image_ind,x,y])\n",
    "    "
   ]
  },
  {
   "cell_type": "code",
   "execution_count": 75,
   "id": "d7ab668b",
   "metadata": {},
   "outputs": [
    {
     "data": {
      "text/plain": [
       "43"
      ]
     },
     "execution_count": 75,
     "metadata": {},
     "output_type": "execute_result"
    }
   ],
   "source": [
    "image_copy = np.array(img.copy())\n",
    "count = 0\n",
    "for i in final_key_points:\n",
    "    if i[0] == 0:\n",
    "        image_copy[i[2],i[3]] = [255,0,0]\n",
    "        count += 1\n",
    "        \n",
    "len(final_key_points)"
   ]
  },
  {
   "cell_type": "code",
   "execution_count": 76,
   "id": "a758d423",
   "metadata": {},
   "outputs": [
    {
     "data": {
      "image/png": "[encoded data removed]",
      "text/plain": [
       "<PIL.Image.Image image mode=RGB size=454x353 at 0x25E12681BB0>"
      ]
     },
     "execution_count": 76,
     "metadata": {},
     "output_type": "execute_result"
    }
   ],
   "source": [
    "Image.fromarray(image_copy)"
   ]
  },
  {
   "cell_type": "code",
   "execution_count": 60,
   "id": "b9fb1f1e",
   "metadata": {},
   "outputs": [
    {
     "data": {
      "text/plain": [
       "12"
      ]
     },
     "execution_count": 60,
     "metadata": {},
     "output_type": "execute_result"
    }
   ],
   "source": [
    "count"
   ]
  },
  {
   "cell_type": "code",
   "execution_count": null,
   "id": "fc48fbc3",
   "metadata": {},
   "outputs": [],
   "source": [
    "#5. Orientation Assignment.\n",
    "#6. Key-point description."
   ]
  },
  {
   "cell_type": "code",
   "execution_count": 22,
   "id": "62d75c8d",
   "metadata": {},
   "outputs": [
    {
     "data": {
      "image/png": "[encoded data removed]",
      "text/plain": [
       "<PIL.Image.Image image mode=LA size=454x353 at 0x25E091AB9A0>"
      ]
     },
     "execution_count": 22,
     "metadata": {},
     "output_type": "execute_result"
    }
   ],
   "source": [
    "Image.fromarray(a,mode=\"LA\")"
   ]
  },
  {
   "cell_type": "code",
   "execution_count": 24,
   "id": "fc99f886",
   "metadata": {},
   "outputs": [
    {
     "data": {
      "image/png": "[encoded data removed]",
      "text/plain": [
       "<PIL.Image.Image image mode=L size=454x353 at 0x25E11DD1EE0>"
      ]
     },
     "execution_count": 24,
     "metadata": {},
     "output_type": "execute_result"
    }
   ],
   "source": [
    "Image.fromarray(DOG[octave_index,image_index])"
   ]
  },
  {
   "cell_type": "code",
   "execution_count": null,
   "id": "e5350ed1",
   "metadata": {},
   "outputs": [],
   "source": []
  }
 ],
 "metadata": {
  "kernelspec": {
   "display_name": "Python 3",
   "language": "python",
   "name": "python3"
  },
  "language_info": {
   "codemirror_mode": {
    "name": "ipython",
    "version": 3
   },
   "file_extension": ".py",
   "mimetype": "text/x-python",
   "name": "python",
   "nbconvert_exporter": "python",
   "pygments_lexer": "ipython3",
   "version": "3.8.8"
  }
 },
 "nbformat": 4,
 "nbformat_minor": 5
}
