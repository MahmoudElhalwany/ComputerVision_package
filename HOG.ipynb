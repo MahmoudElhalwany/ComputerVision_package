{
 "cells": [
  {
   "cell_type": "code",
   "execution_count": 31,
   "id": "cb555c06",
   "metadata": {},
   "outputs": [],
   "source": [
    "from PIL import Image\n",
    "import numpy as np\n",
    "import cv2\n",
    "from scipy import signal as sig\n",
    "from skimage.io import imread\n",
    "from skimage.color import rgb2gray\n",
    "from scipy import ndimage as ndi\n",
    "from skimage.feature import corner_peaks\n",
    "import matplotlib.pyplot as plt\n",
    "from numpy import unravel_index\n",
    "from HarrisDetection import harris_detection\n",
    "import math"
   ]
  },
  {
   "cell_type": "code",
   "execution_count": 2,
   "id": "87950c14",
   "metadata": {},
   "outputs": [],
   "source": [
    "''' # \n",
    "    # @desc apply Gaussian Bluring on a given image\n",
    "    # @params np.array img: Image to apply Guassian on it\n",
    "    # @returns np.array I: np.array of blured image\n",
    "    #          np.array I_norm: normalized array between (0,255) for blured Image \n",
    "'''\n",
    "def gaussian_blur_scipy(img):\n",
    "    kernel = np.array([[1, 2, 1],[2, 4, 2],[1, 2, 1]])\n",
    "    I = sig.convolve2d(img, kernel, mode='same')/16.0\n",
    "    I_norm = (I * 255 / I.max()).astype(np.uint8)\n",
    "    return  I_norm"
   ]
  },
  {
   "cell_type": "code",
   "execution_count": 3,
   "id": "1d660dbb",
   "metadata": {},
   "outputs": [],
   "source": [
    "''' # \n",
    "    # @desc convert image to gray \n",
    "    # @params np.array img: Image to be converted to gray\n",
    "    # @returns np.array gray image\n",
    "'''\n",
    "def imgtogray(img):\n",
    "    img = np.array(img).astype('float64')\n",
    "    img[:,:,0] *= 0.299\n",
    "    img[:,:,1] *= 0.587\n",
    "    img[:,:,2] *= 0.114\n",
    "    return np.sum(img,axis=2).astype(\"uint8\")"
   ]
  },
  {
   "cell_type": "code",
   "execution_count": 19,
   "id": "a30cfeb7",
   "metadata": {},
   "outputs": [],
   "source": [
    "'''\n",
    "    # @desc apply Sobel-Edge Detector on a given image\n",
    "    # @params np.array img: Image to apply Guassian on it\n",
    "    # @returns np.array Ix_norm: normalized array between (0,255) of edges in x direction of the image\n",
    "    #          np.array Iy_norm: normalized array between (0,255) of edges in y direction of the image\n",
    "    #          np.array Ixy_norm: normalized array between (0,255) of edges in x-y direction of the image\n",
    "'''\n",
    "def sobel_edge_detector_scipy(img):\n",
    "    kernel_x = np.array([[-1, 0, 1],[-2, 0, 2],[-1, 0, 1]])\n",
    "    kernel_y = np.array([[1, 2, 1], [0, 0, 0], [-1, -2, -1]])\n",
    "    Ix = sig.convolve2d(img, kernel_x, mode='same')\n",
    "    Ix_norm = (Ix * 255 / Ix.max()).astype(np.uint8)\n",
    "    Iy = sig.convolve2d(img, kernel_y, mode='same')\n",
    "    Iy_norm = (Iy * 255 / Iy.max()).astype(np.uint8)\n",
    "    grad = np.sqrt(Ix**2 + Iy**2)\n",
    "    Ixy_norm = (grad * 255 / grad.max()).astype(np.uint8)\n",
    "    return Ix_norm, Iy_norm, Ixy_norm"
   ]
  },
  {
   "cell_type": "code",
   "execution_count": 5,
   "id": "6e50b312",
   "metadata": {},
   "outputs": [],
   "source": [
    "img = Image.open('HogTest.jpg')"
   ]
  },
  {
   "cell_type": "code",
   "execution_count": 7,
   "id": "df9bd647",
   "metadata": {},
   "outputs": [
    {
     "data": {
      "text/plain": [
       "(175, 300)"
      ]
     },
     "execution_count": 7,
     "metadata": {},
     "output_type": "execute_result"
    }
   ],
   "source": [
    "img.size"
   ]
  },
  {
   "cell_type": "code",
   "execution_count": 11,
   "id": "6d1dd65e",
   "metadata": {},
   "outputs": [],
   "source": [
    "resized_img = img.resize((64,128))"
   ]
  },
  {
   "cell_type": "code",
   "execution_count": 23,
   "id": "ca1787d6",
   "metadata": {},
   "outputs": [
    {
     "data": {
      "text/plain": [
       "(128, 64, 3)"
      ]
     },
     "execution_count": 23,
     "metadata": {},
     "output_type": "execute_result"
    }
   ],
   "source": [
    "np.array(resized_img).shape"
   ]
  },
  {
   "cell_type": "code",
   "execution_count": 25,
   "id": "a69954e1",
   "metadata": {},
   "outputs": [],
   "source": [
    "gray = imgtogray(resized_img)"
   ]
  },
  {
   "cell_type": "code",
   "execution_count": 28,
   "id": "5fb7e0bf",
   "metadata": {},
   "outputs": [],
   "source": [
    "sobelx, sobely, edges = sobel_edge_detector_scipy(gray)"
   ]
  },
  {
   "cell_type": "code",
   "execution_count": 45,
   "id": "794e705a",
   "metadata": {},
   "outputs": [],
   "source": [
    "def get_angel(sobelx, sobely):\n",
    "    angels = np.zeros(sobelx.shape)\n",
    "    for x in range(sobelx.shape[0]):\n",
    "        for y in range(sobelx.shape[1]):\n",
    "            if sobelx[x,y] == 0:\n",
    "                if sobely[x,y] != 0:\n",
    "                    angels[x,y] = 90\n",
    "            else: angels[x,y] = math.atan(sobely[x,y]/sobelx[x,y])\n",
    "    return angels\n",
    "    "
   ]
  },
  {
   "cell_type": "code",
   "execution_count": 47,
   "id": "79646652",
   "metadata": {},
   "outputs": [],
   "source": [
    "angels = get_angel(sobelx, sobely)"
   ]
  },
  {
   "cell_type": "code",
   "execution_count": 50,
   "id": "2df05ea6",
   "metadata": {},
   "outputs": [
    {
     "data": {
      "text/plain": [
       "90.0"
      ]
     },
     "execution_count": 50,
     "metadata": {},
     "output_type": "execute_result"
    }
   ],
   "source": [
    "angels.max()"
   ]
  },
  {
   "cell_type": "code",
   "execution_count": 58,
   "id": "787b6ab5",
   "metadata": {},
   "outputs": [],
   "source": [
    "pixels_per_cell = 8\n",
    "bins_pre_cell = 9\n",
    "histograms = []\n",
    "for x in range (pixels_per_cell-1,edges.shape[0],pixels_per_cell):\n",
    "    row = []\n",
    "    for y in range (pixels_per_cell,edges.shape[1],pixels_per_cell):\n",
    "        bins = [0]*9\n",
    "        for pixelx in range(pixels_per_cell):\n",
    "            for pixely in range(pixels_per_cell):\n",
    "                bins[int(angels[x-pixelx,y-pixely]//(180//9))] += edges[x-pixelx,y-pixely]\n",
    "        row.append(bins)\n",
    "    histograms.append(row)\n",
    "        \n",
    "        "
   ]
  },
  {
   "cell_type": "code",
   "execution_count": 59,
   "id": "daf12c74",
   "metadata": {},
   "outputs": [
    {
     "data": {
      "text/plain": [
       "[[[20, 0, 0, 0, 1913, 0, 0, 0, 0],\n",
       "  [21, 0, 0, 0, 1940, 0, 0, 0, 0],\n",
       "  [329, 0, 0, 0, 1959, 0, 0, 0, 0],\n",
       "  [1756, 0, 0, 0, 1959, 0, 0, 0, 0],\n",
       "  [2137, 0, 0, 0, 1322, 0, 0, 0, 0],\n",
       "  [2267, 0, 0, 0, 1762, 0, 0, 0, 0],\n",
       "  [508, 0, 0, 0, 1980, 0, 0, 0, 0]],\n",
       " [[60, 0, 0, 0, 5, 0, 0, 0, 0],\n",
       "  [9, 0, 0, 0, 5, 0, 0, 0, 0],\n",
       "  [2867, 0, 0, 0, 3, 0, 0, 0, 0],\n",
       "  [1693, 0, 0, 0, 0, 0, 0, 0, 0],\n",
       "  [1047, 0, 0, 0, 20, 0, 0, 0, 0],\n",
       "  [813, 0, 0, 0, 9, 0, 0, 0, 0],\n",
       "  [2389, 0, 0, 0, 44, 0, 0, 0, 0]],\n",
       " [[23, 0, 0, 0, 0, 0, 0, 0, 0],\n",
       "  [2, 0, 0, 0, 0, 0, 0, 0, 0],\n",
       "  [3318, 0, 0, 0, 0, 0, 0, 0, 0],\n",
       "  [4594, 0, 0, 0, 0, 0, 0, 0, 0],\n",
       "  [1924, 0, 0, 0, 54, 0, 0, 0, 0],\n",
       "  [1403, 0, 0, 0, 20, 0, 0, 0, 0],\n",
       "  [1295, 0, 0, 0, 35, 0, 0, 0, 0]],\n",
       " [[25, 0, 0, 0, 0, 0, 0, 0, 0],\n",
       "  [0, 0, 0, 0, 0, 0, 0, 0, 0],\n",
       "  [2947, 0, 0, 0, 78, 0, 0, 0, 0],\n",
       "  [1745, 0, 0, 0, 22, 0, 0, 0, 0],\n",
       "  [873, 0, 0, 0, 71, 0, 0, 0, 0],\n",
       "  [3038, 0, 0, 0, 74, 0, 0, 0, 0],\n",
       "  [2096, 0, 0, 0, 17, 0, 0, 0, 0]],\n",
       " [[26, 0, 0, 0, 0, 0, 0, 0, 0],\n",
       "  [0, 0, 0, 0, 0, 0, 0, 0, 0],\n",
       "  [1018, 0, 0, 0, 2, 0, 0, 0, 0],\n",
       "  [2722, 0, 0, 0, 0, 0, 0, 0, 0],\n",
       "  [2229, 0, 0, 0, 25, 0, 0, 0, 0],\n",
       "  [1688, 0, 0, 0, 1, 0, 0, 0, 0],\n",
       "  [2052, 0, 0, 0, 6, 0, 0, 0, 0]],\n",
       " [[24, 0, 0, 0, 0, 0, 0, 0, 0],\n",
       "  [0, 0, 0, 0, 0, 0, 0, 0, 0],\n",
       "  [929, 0, 0, 0, 1, 0, 0, 0, 0],\n",
       "  [3041, 0, 0, 0, 4, 0, 0, 0, 0],\n",
       "  [2208, 0, 0, 0, 0, 0, 0, 0, 0],\n",
       "  [1020, 0, 0, 0, 26, 0, 0, 0, 0],\n",
       "  [2784, 0, 0, 0, 0, 0, 0, 0, 0]],\n",
       " [[17, 0, 0, 0, 0, 0, 0, 0, 0],\n",
       "  [8, 0, 0, 0, 0, 0, 0, 0, 0],\n",
       "  [899, 0, 0, 0, 0, 0, 0, 0, 0],\n",
       "  [819, 0, 0, 0, 25, 0, 0, 0, 0],\n",
       "  [1451, 0, 0, 0, 0, 0, 0, 0, 0],\n",
       "  [986, 0, 0, 0, 0, 0, 0, 0, 0],\n",
       "  [1993, 0, 0, 0, 3, 0, 0, 0, 0]],\n",
       " [[21, 0, 0, 0, 0, 0, 0, 0, 0],\n",
       "  [283, 0, 0, 0, 1, 0, 0, 0, 0],\n",
       "  [689, 0, 0, 0, 1, 0, 0, 0, 0],\n",
       "  [635, 0, 0, 0, 18, 0, 0, 0, 0],\n",
       "  [1409, 0, 0, 0, 31, 0, 0, 0, 0],\n",
       "  [695, 0, 0, 0, 61, 0, 0, 0, 0],\n",
       "  [1550, 0, 0, 0, 20, 0, 0, 0, 0]],\n",
       " [[7, 0, 0, 0, 0, 0, 0, 0, 0],\n",
       "  [623, 0, 0, 0, 1, 0, 0, 0, 0],\n",
       "  [486, 0, 0, 0, 74, 0, 0, 0, 0],\n",
       "  [1018, 0, 0, 0, 27, 0, 0, 0, 0],\n",
       "  [1091, 0, 0, 0, 39, 0, 0, 0, 0],\n",
       "  [653, 0, 0, 0, 128, 0, 0, 0, 0],\n",
       "  [1598, 0, 0, 0, 18, 0, 0, 0, 0]],\n",
       " [[5, 0, 0, 0, 0, 0, 0, 0, 0],\n",
       "  [955, 0, 0, 0, 8, 0, 0, 0, 0],\n",
       "  [693, 0, 0, 0, 20, 0, 0, 0, 0],\n",
       "  [1355, 0, 0, 0, 70, 0, 0, 0, 0],\n",
       "  [1332, 0, 0, 0, 0, 0, 0, 0, 0],\n",
       "  [786, 0, 0, 0, 40, 0, 0, 0, 0],\n",
       "  [1593, 0, 0, 0, 36, 0, 0, 0, 0]],\n",
       " [[0, 0, 0, 0, 0, 0, 0, 0, 0],\n",
       "  [1115, 0, 0, 0, 9, 0, 0, 0, 0],\n",
       "  [1166, 0, 0, 0, 8, 0, 0, 0, 0],\n",
       "  [1821, 0, 0, 0, 4, 0, 0, 0, 0],\n",
       "  [1401, 0, 0, 0, 22, 0, 0, 0, 0],\n",
       "  [845, 0, 0, 0, 3, 0, 0, 0, 0],\n",
       "  [2317, 0, 0, 0, 6, 0, 0, 0, 0]],\n",
       " [[1, 0, 0, 0, 1, 0, 0, 0, 0],\n",
       "  [1493, 0, 0, 0, 6, 0, 0, 0, 0],\n",
       "  [2376, 0, 0, 0, 0, 0, 0, 0, 0],\n",
       "  [2349, 0, 0, 0, 0, 0, 0, 0, 0],\n",
       "  [1536, 0, 0, 0, 45, 0, 0, 0, 0],\n",
       "  [1080, 0, 0, 0, 0, 0, 0, 0, 0],\n",
       "  [4313, 0, 0, 0, 0, 0, 0, 0, 0]],\n",
       " [[161, 0, 0, 0, 3, 0, 0, 0, 0],\n",
       "  [1777, 0, 0, 0, 55, 0, 0, 0, 0],\n",
       "  [2265, 0, 0, 0, 1, 0, 0, 0, 0],\n",
       "  [2561, 0, 0, 0, 99, 0, 0, 0, 0],\n",
       "  [2835, 0, 0, 0, 7, 0, 0, 0, 0],\n",
       "  [1321, 0, 0, 0, 0, 0, 0, 0, 0],\n",
       "  [3907, 0, 0, 0, 39, 0, 0, 0, 0]],\n",
       " [[2022, 0, 0, 0, 1, 0, 0, 0, 0],\n",
       "  [811, 0, 0, 0, 31, 0, 0, 0, 0],\n",
       "  [1866, 0, 0, 0, 8, 0, 0, 0, 0],\n",
       "  [1297, 0, 0, 0, 2, 0, 0, 0, 0],\n",
       "  [1328, 0, 0, 0, 1, 0, 0, 0, 0],\n",
       "  [1427, 0, 0, 0, 4, 0, 0, 0, 0],\n",
       "  [990, 0, 0, 0, 12, 0, 0, 0, 0]],\n",
       " [[2671, 0, 0, 0, 103, 0, 0, 0, 0],\n",
       "  [2868, 0, 0, 0, 3, 0, 0, 0, 0],\n",
       "  [1246, 0, 0, 0, 37, 0, 0, 0, 0],\n",
       "  [114, 0, 0, 0, 88, 0, 0, 0, 0],\n",
       "  [1535, 0, 0, 0, 0, 0, 0, 0, 0],\n",
       "  [1291, 0, 0, 0, 19, 0, 0, 0, 0],\n",
       "  [1980, 0, 0, 0, 1, 0, 0, 0, 0]],\n",
       " [[201, 0, 0, 0, 2003, 0, 0, 0, 0],\n",
       "  [226, 0, 0, 0, 2032, 0, 0, 0, 0],\n",
       "  [20, 0, 0, 0, 1975, 0, 0, 0, 0],\n",
       "  [0, 0, 0, 0, 1987, 0, 0, 0, 0],\n",
       "  [534, 0, 0, 0, 1977, 0, 0, 0, 0],\n",
       "  [1678, 0, 0, 0, 2060, 0, 0, 0, 0],\n",
       "  [1335, 0, 0, 0, 1975, 0, 0, 0, 0]]]"
      ]
     },
     "execution_count": 59,
     "metadata": {},
     "output_type": "execute_result"
    }
   ],
   "source": []
  },
  {
   "cell_type": "code",
   "execution_count": null,
   "id": "7d80704e",
   "metadata": {},
   "outputs": [],
   "source": [
    "# we can normalize image first to imrove the performance"
   ]
  }
 ],
 "metadata": {
  "kernelspec": {
   "display_name": "Python 3",
   "language": "python",
   "name": "python3"
  },
  "language_info": {
   "codemirror_mode": {
    "name": "ipython",
    "version": 3
   },
   "file_extension": ".py",
   "mimetype": "text/x-python",
   "name": "python",
   "nbconvert_exporter": "python",
   "pygments_lexer": "ipython3",
   "version": "3.8.8"
  }
 },
 "nbformat": 4,
 "nbformat_minor": 5
}
