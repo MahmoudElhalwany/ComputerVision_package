{
 "cells": [
  {
   "cell_type": "code",
   "execution_count": 70,
   "id": "46f6ad70",
   "metadata": {},
   "outputs": [],
   "source": [
    "from PIL import Image\n",
    "import numpy as np\n",
    "import cv2\n",
    "from scipy import signal as sig\n",
    "from skimage.io import imread\n",
    "from skimage.color import rgb2gray\n",
    "from scipy import ndimage as ndi\n",
    "from skimage.feature import corner_peaks\n",
    "import matplotlib.pyplot as plt\n",
    "from numpy import unravel_index\n",
    "from HarrisDetection import harris_detection\n",
    "import math"
   ]
  },
  {
   "cell_type": "code",
   "execution_count": 71,
   "id": "d568820a",
   "metadata": {},
   "outputs": [],
   "source": [
    "''' # \n",
    "    # @desc apply Gaussian Bluring on a given image\n",
    "    # @params np.array img: Image to apply Guassian on it\n",
    "    # @returns np.array I: np.array of blured image\n",
    "    #          np.array I_norm: normalized array between (0,255) for blured Image \n",
    "'''\n",
    "def gaussian_blur_scipy(img):\n",
    "    kernel = np.array([[1, 2, 1],[2, 4, 2],[1, 2, 1]])\n",
    "    I = sig.convolve2d(img, kernel, mode='same')/16.0\n",
    "    I_norm = (I * 255 / I.max()).astype(np.uint8)\n",
    "    return  I_norm"
   ]
  },
  {
   "cell_type": "code",
   "execution_count": 72,
   "id": "31756503",
   "metadata": {},
   "outputs": [],
   "source": [
    "''' # \n",
    "    # @desc convert image to gray \n",
    "    # @params np.array img: Image to be converted to gray\n",
    "    # @returns np.array gray image\n",
    "'''\n",
    "def imgtogray(img):\n",
    "    img = np.array(img).astype('float64')\n",
    "    img[:,:,0] *= 0.299\n",
    "    img[:,:,1] *= 0.587\n",
    "    img[:,:,2] *= 0.114\n",
    "    return np.sum(img,axis=2).astype(\"uint8\")"
   ]
  },
  {
   "cell_type": "code",
   "execution_count": 73,
   "id": "464bfd20",
   "metadata": {},
   "outputs": [],
   "source": [
    "'''\n",
    "    # @desc apply Sobel-Edge Detector on a given image\n",
    "    # @params np.array img: Image to apply Guassian on it\n",
    "    # @returns np.array Ix_norm: normalized array between (0,255) of edges in x direction of the image\n",
    "    #          np.array Iy_norm: normalized array between (0,255) of edges in y direction of the image\n",
    "    #          np.array Ixy_norm: normalized array between (0,255) of edges in x-y direction of the image\n",
    "'''\n",
    "def sobel_edge_detector_scipy(img):\n",
    "    kernel_x = np.array([[-1, 0, 1],[-2, 0, 2],[-1, 0, 1]])\n",
    "    kernel_y = np.array([[1, 2, 1], [0, 0, 0], [-1, -2, -1]])\n",
    "    Ix = sig.convolve2d(img, kernel_x, mode='same')\n",
    "    Ix_norm = (Ix * 255 / Ix.max()).astype(np.uint8)\n",
    "    Iy = sig.convolve2d(img, kernel_y, mode='same')\n",
    "    Iy_norm = (Iy * 255 / Iy.max()).astype(np.uint8)\n",
    "    grad = np.sqrt(Ix**2 + Iy**2)\n",
    "    Ixy_norm = (grad * 255 / grad.max()).astype(np.uint8)\n",
    "    return Ix_norm, Iy_norm, Ixy_norm"
   ]
  },
  {
   "cell_type": "code",
   "execution_count": 74,
   "id": "76fb8959",
   "metadata": {},
   "outputs": [],
   "source": [
    "img = Image.open('HogTest.jpg')"
   ]
  },
  {
   "cell_type": "code",
   "execution_count": 75,
   "id": "7122170f",
   "metadata": {},
   "outputs": [
    {
     "data": {
      "text/plain": [
       "(175, 300)"
      ]
     },
     "execution_count": 75,
     "metadata": {},
     "output_type": "execute_result"
    }
   ],
   "source": [
    "img.size"
   ]
  },
  {
   "cell_type": "code",
   "execution_count": 76,
   "id": "5daf34c6",
   "metadata": {},
   "outputs": [],
   "source": [
    "resized_img = img.resize((64,128))"
   ]
  },
  {
   "cell_type": "code",
   "execution_count": 77,
   "id": "b35b5494",
   "metadata": {},
   "outputs": [
    {
     "data": {
      "text/plain": [
       "(128, 64, 3)"
      ]
     },
     "execution_count": 77,
     "metadata": {},
     "output_type": "execute_result"
    }
   ],
   "source": [
    "np.array(resized_img).shape"
   ]
  },
  {
   "cell_type": "code",
   "execution_count": 78,
   "id": "cf6faa83",
   "metadata": {},
   "outputs": [],
   "source": [
    "gray = imgtogray(resized_img)"
   ]
  },
  {
   "cell_type": "code",
   "execution_count": 79,
   "id": "d0e8ba3c",
   "metadata": {},
   "outputs": [],
   "source": [
    "sobelx, sobely, magnitude = sobel_edge_detector_scipy(gray)"
   ]
  },
  {
   "cell_type": "code",
   "execution_count": 80,
   "id": "959e837c",
   "metadata": {},
   "outputs": [],
   "source": [
    "def get_angel(sobelx, sobely):\n",
    "    angels = np.zeros(sobelx.shape)\n",
    "    for x in range(sobelx.shape[0]):\n",
    "        for y in range(sobelx.shape[1]):\n",
    "            if sobelx[x,y] == 0:\n",
    "                if sobely[x,y] != 0:\n",
    "                    angels[x,y] = 90\n",
    "            else: angels[x,y] = math.atan(sobely[x,y]/sobelx[x,y])\n",
    "    return angels\n",
    "    "
   ]
  },
  {
   "cell_type": "code",
   "execution_count": 81,
   "id": "aa1112e4",
   "metadata": {},
   "outputs": [],
   "source": [
    "angels = get_angel(sobelx, sobely)"
   ]
  },
  {
   "cell_type": "code",
   "execution_count": 82,
   "id": "55975c53",
   "metadata": {},
   "outputs": [
    {
     "data": {
      "text/plain": [
       "90.0"
      ]
     },
     "execution_count": 82,
     "metadata": {},
     "output_type": "execute_result"
    }
   ],
   "source": [
    "angels.max()"
   ]
  },
  {
   "cell_type": "code",
   "execution_count": 83,
   "id": "606ee6e1",
   "metadata": {},
   "outputs": [],
   "source": [
    "pixels_per_cell = 8\n",
    "bins_pre_cell = 9\n",
    "histograms = []\n",
    "for x in range (pixels_per_cell-1,edges.shape[0],pixels_per_cell):\n",
    "    row = []\n",
    "    \n",
    "    for y in range (pixels_per_cell-1,edges.shape[1],pixels_per_cell):\n",
    "        bins = [0]*9\n",
    "        for pixelx in range(pixels_per_cell):\n",
    "            for pixely in range(pixels_per_cell):\n",
    "                bins[int(angels[x-pixelx,y-pixely]//(180//9))] += magnitude[x-pixelx,y-pixely]\n",
    "        row.append(bins)\n",
    "    histograms.append(row)\n",
    "        \n",
    "        "
   ]
  },
  {
   "cell_type": "code",
   "execution_count": 84,
   "id": "15588340",
   "metadata": {},
   "outputs": [
    {
     "data": {
      "text/plain": [
       "8"
      ]
     },
     "execution_count": 84,
     "metadata": {},
     "output_type": "execute_result"
    }
   ],
   "source": [
    "len(histograms[0])"
   ]
  },
  {
   "cell_type": "code",
   "execution_count": 97,
   "id": "d0fc3a0f",
   "metadata": {},
   "outputs": [],
   "source": [
    "def rss(a: np.ndarray) -> float:\n",
    "    return np.linalg.norm(a)\n"
   ]
  },
  {
   "cell_type": "code",
   "execution_count": 100,
   "id": "5836d790",
   "metadata": {},
   "outputs": [],
   "source": [
    "normalized_histpograms = []\n",
    "for y in range (1,len(histograms[0])):\n",
    "    row = []\n",
    "    for x in range (1,len(histograms)):\n",
    "        cell = []\n",
    "        cell.append(histograms[x-1][y-1])\n",
    "        cell.append(histograms[x-1][y])\n",
    "        cell.append(histograms[x][y-1])\n",
    "        cell.append(histograms[x][y])\n",
    "        cell = [item for sublist in cell for item in sublist]\n",
    "        divider = rss(cell)\n",
    "        cell /= divider\n",
    "        row.append(cell)\n",
    "    normalized_histpograms.append(row)\n",
    "        \n",
    "        \n",
    "        \n",
    "        "
   ]
  },
  {
   "cell_type": "code",
   "execution_count": null,
   "id": "29ca45d1",
   "metadata": {},
   "outputs": [],
   "source": [
    "# we can normalize image first to imrove the performance"
   ]
  }
 ],
 "metadata": {
  "kernelspec": {
   "display_name": "Python 3",
   "language": "python",
   "name": "python3"
  },
  "language_info": {
   "codemirror_mode": {
    "name": "ipython",
    "version": 3
   },
   "file_extension": ".py",
   "mimetype": "text/x-python",
   "name": "python",
   "nbconvert_exporter": "python",
   "pygments_lexer": "ipython3",
   "version": "3.8.8"
  }
 },
 "nbformat": 4,
 "nbformat_minor": 5
}
